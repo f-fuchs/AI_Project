{
 "cells": [
  {
   "cell_type": "code",
   "execution_count": 1,
   "metadata": {},
   "outputs": [],
   "source": [
    "import os\n",
    "import numpy as np\n",
    "\n",
    "def load_labeled_data(path):\n",
    "    states = []\n",
    "    actions = []\n",
    "    for f in os.listdir(path):\n",
    "        e_c = np.load(f'{path}/{f}')\n",
    "        states.append(e_c['states'])\n",
    "        actions.append(e_c['actions'])\n",
    "    return states, actions\n"
   ]
  },
  {
   "cell_type": "code",
   "execution_count": 4,
   "metadata": {},
   "outputs": [],
   "source": [
    "states, actions = load_labeled_data('./human_db')"
   ]
  },
  {
   "cell_type": "code",
   "execution_count": null,
   "metadata": {},
   "outputs": [],
   "source": [
    "for state, action in zip(states, actions):\n",
    "    for i in range(len(action)-1):\n",
    "        #\n",
    "        current_state = state[i]\n",
    "        current_action = action[i]\n",
    "        next_state = state[i+1]\n",
    "        # calculate reward\n",
    "        frame = self.dJWB.get_screenshot_grayscale()\n",
    "        # frame.show()\n",
    "        new_score_frame = np.array(frame.crop((0, 0, 50, 20)))\n",
    "        if np.array_equal(new_score_frame, self.last_score_frame):\n",
    "            reward = 1\n",
    "        else:\n",
    "            reward = 0\n",
    "        self.last_score_frame = new_score_frame"
   ]
  }
 ],
 "metadata": {
  "kernelspec": {
   "display_name": "ml",
   "language": "python",
   "name": "python3"
  },
  "language_info": {
   "codemirror_mode": {
    "name": "ipython",
    "version": 3
   },
   "file_extension": ".py",
   "mimetype": "text/x-python",
   "name": "python",
   "nbconvert_exporter": "python",
   "pygments_lexer": "ipython3",
   "version": "3.11.2"
  },
  "orig_nbformat": 4
 },
 "nbformat": 4,
 "nbformat_minor": 2
}
